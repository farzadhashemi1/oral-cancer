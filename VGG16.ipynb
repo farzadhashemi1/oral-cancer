{
 "cells": [
  {
   "cell_type": "code",
   "execution_count": 1,
   "metadata": {
    "colab": {
     "base_uri": "https://localhost:8080/"
    },
    "id": "BXN102naZe1r",
    "outputId": "a73a6e61-cdcd-4e27-91bb-e2eaba5149aa"
   },
   "outputs": [
    {
     "name": "stdout",
     "output_type": "stream",
     "text": [
      "Drive already mounted at /content/drive; to attempt to forcibly remount, call drive.mount(\"/content/drive\", force_remount=True).\n"
     ]
    }
   ],
   "source": [
    "from google.colab import drive\n",
    "drive.mount('/content/drive')"
   ]
  },
  {
   "cell_type": "code",
   "execution_count": 2,
   "metadata": {
    "colab": {
     "base_uri": "https://localhost:8080/"
    },
    "id": "LoFpbHtGcjGz",
    "outputId": "16a9adcd-16f5-4f53-b158-25b23052a76a"
   },
   "outputs": [
    {
     "name": "stdout",
     "output_type": "stream",
     "text": [
      "/content/drive/MyDrive/kaggle\n"
     ]
    }
   ],
   "source": [
    "cd /content/drive/MyDrive/kaggle"
   ]
  },
  {
   "cell_type": "code",
   "execution_count": 3,
   "metadata": {
    "id": "YwnG_502Slz1"
   },
   "outputs": [],
   "source": [
    "import glob\n",
    "import numpy as np\n",
    "import matplotlib.pyplot as plt\n",
    "import h5py\n",
    "import cv2\n",
    "from tensorflow.keras.preprocessing.image import ImageDataGenerator\n",
    "import tensorflow as tf\n",
    "from tensorflow import keras\n",
    "from tensorflow.keras import layers\n",
    "import keras\n",
    "from keras.models import Sequential\n",
    "from tensorflow.keras import regularizers\n",
    "from keras.layers import Dense, Activation, Dropout, Flatten, Conv2D, MaxPooling2D, GlobalAveragePooling2D\n",
    "from keras.layers import BatchNormalization\n",
    "from sklearn.model_selection import train_test_split\n",
    "from sklearn.preprocessing import LabelEncoder\n",
    "from tensorflow.keras.utils import to_categorical"
   ]
  },
  {
   "cell_type": "code",
   "execution_count": 4,
   "metadata": {
    "id": "BO7yvoIZvxmo"
   },
   "outputs": [],
   "source": [
    "all_path = []\n",
    "labels = []\n",
    "for item in glob.glob('OralCancer/*/*'):\n",
    "  all_path.append(item)\n",
    "  labels.append(item.split('/')[1])"
   ]
  },
  {
   "cell_type": "code",
   "execution_count": 5,
   "metadata": {
    "id": "SpzKDH7ZwHhp"
   },
   "outputs": [],
   "source": [
    "images = []\n",
    "for path in all_path:\n",
    "  img = cv2.imread(path)\n",
    "  img = cv2.cvtColor(img, cv2.COLOR_BGR2RGB)\n",
    "  img = cv2.resize(img, (224,224))\n",
    "  img = cv2.normalize(img, None, 0, 1.0, cv2.NORM_MINMAX, dtype=cv2.CV_32F)\n",
    "  # img = img / 255.0\n",
    "  images.append(img)\n",
    "images = np.array(images)"
   ]
  },
  {
   "cell_type": "code",
   "execution_count": 6,
   "metadata": {
    "id": "md0xtSiKw-Fh"
   },
   "outputs": [],
   "source": [
    "le = LabelEncoder()\n",
    "labels = le.fit_transform(labels)\n",
    "labels = to_categorical(labels)\n",
    "# print(labels)"
   ]
  },
  {
   "cell_type": "code",
   "execution_count": 7,
   "metadata": {
    "id": "t9KdCp_ZwHkQ"
   },
   "outputs": [],
   "source": [
    "x_train, x_test, y_train, y_test = train_test_split(images, labels, test_size=0.1,shuffle  = True,random_state=0)"
   ]
  },
  {
   "cell_type": "code",
   "execution_count": 8,
   "metadata": {
    "colab": {
     "base_uri": "https://localhost:8080/"
    },
    "id": "B2XLTMSPxtMO",
    "outputId": "ae4480c5-662b-4d52-e315-5a8c4e23e63b"
   },
   "outputs": [
    {
     "data": {
      "text/plain": [
       "(117, 224, 224, 3)"
      ]
     },
     "execution_count": 8,
     "metadata": {},
     "output_type": "execute_result"
    }
   ],
   "source": [
    "x_train.shape"
   ]
  },
  {
   "cell_type": "code",
   "execution_count": 9,
   "metadata": {
    "id": "lVgwv_YGvcwp"
   },
   "outputs": [],
   "source": [
    "train_datagen = ImageDataGenerator(\n",
    "    # rescale=1./255,\n",
    "    rotation_range=15,\n",
    "    width_shift_range=0.2,\n",
    "    height_shift_range=0.2,\n",
    "    shear_range=0.2,\n",
    "    # zoom_range=0.2,\n",
    "    horizontal_flip=True,\n",
    "    fill_mode='nearest'\n",
    ")"
   ]
  },
  {
   "cell_type": "code",
   "execution_count": 10,
   "metadata": {
    "id": "3WbubPlevnoO"
   },
   "outputs": [],
   "source": [
    "train_generator = train_datagen.flow(\n",
    "    x_train,\n",
    "    y_train,\n",
    "    batch_size = 25)\n",
    "# validation_generator = validation_datagen.flow_from_directory(\n",
    "#     val_set,\n",
    "#     target_size = (224,224),\n",
    "#     batch_size = 8,\n",
    "#     shuffle=True,\n",
    "#     class_mode = 'binary')\n",
    "# test_generator = test_datagen.flow_from_directory(\n",
    "#     test_set,\n",
    "#     target_size = (224,224),\n",
    "#     batch_size = 8,\n",
    "#     class_mode = 'binary')"
   ]
  },
  {
   "cell_type": "code",
   "execution_count": 11,
   "metadata": {
    "id": "PXTmNHWjvtxB"
   },
   "outputs": [],
   "source": [
    "new_xtrain = []\n",
    "new_ytrain = []\n",
    "\n",
    "for i in range(90):\n",
    "    x_batch, y_batch = train_generator.next()\n",
    "    new_xtrain.append(x_batch)\n",
    "    new_ytrain.append(y_batch)\n",
    "\n",
    "new_xtrain = np.concatenate(new_xtrain, axis=0)\n",
    "new_ytrain = np.concatenate(new_ytrain, axis=0)"
   ]
  },
  {
   "cell_type": "code",
   "execution_count": 12,
   "metadata": {
    "colab": {
     "base_uri": "https://localhost:8080/"
    },
    "id": "zG0mHIoszD-s",
    "outputId": "93394ffa-d333-40f8-c926-cb227ea18529"
   },
   "outputs": [
    {
     "name": "stdout",
     "output_type": "stream",
     "text": [
      "shape of xtrain: (2106, 224, 224, 3)\n",
      "shape of ytrain: (2106, 2)\n"
     ]
    }
   ],
   "source": [
    "print(f\"shape of xtrain: {new_xtrain.shape}\")\n",
    "\n",
    "print(f\"shape of ytrain: {new_ytrain.shape}\")"
   ]
  },
  {
   "cell_type": "code",
   "execution_count": 12,
   "metadata": {
    "id": "1zgPEohKzY37"
   },
   "outputs": [],
   "source": []
  },
  {
   "cell_type": "code",
   "execution_count": 13,
   "metadata": {
    "id": "nibtjvVXzY6v"
   },
   "outputs": [],
   "source": [
    "import tensorflow as tf\n",
    "import numpy as np\n",
    "import matplotlib.pyplot as plt\n",
    "from tensorflow.keras.layers import *\n",
    "from tensorflow.keras.models import *\n",
    "from tensorflow.keras.preprocessing import image"
   ]
  },
  {
   "cell_type": "code",
   "execution_count": 14,
   "metadata": {
    "id": "eeROWCHyzZjh"
   },
   "outputs": [],
   "source": [
    "base_for_model = tf.keras.applications.VGG16(weights='imagenet', input_shape=(224,224,3), include_top=False)"
   ]
  },
  {
   "cell_type": "code",
   "execution_count": 15,
   "metadata": {
    "id": "tTVS7NBwzeR-"
   },
   "outputs": [],
   "source": [
    "for layer in base_for_model.layers:\n",
    "    layer.trainable = False"
   ]
  },
  {
   "cell_type": "code",
   "execution_count": 28,
   "metadata": {
    "id": "752RtIqjziZ-"
   },
   "outputs": [],
   "source": [
    "model = Sequential()\n",
    "model.add(base_for_model)\n",
    "# model.add(GaussianNoise(0.25)) #to prevent overfitting\n",
    "model.add(Dropout(0.6))\n",
    "model.add(GaussianNoise(0.35))     # copy of above line\n",
    "model.add(GlobalAveragePooling2D()) #to converge and reduce the parameters\n",
    "model.add(Dense(128, activation = 'relu')) #hidden layer (relu activation function is suggested for images)\n",
    "model.add(Dropout(0.5))\n",
    "model.add(BatchNormalization()) #to prevent overfitting\n",
    "model.add(Dense(2, activation='sigmoid')) #output layer"
   ]
  },
  {
   "cell_type": "code",
   "execution_count": 29,
   "metadata": {
    "id": "HITHybeKzo3y"
   },
   "outputs": [],
   "source": [
    "adam= tf.keras.optimizers.Adam(learning_rate=0.001)\n",
    "model.compile(optimizer=adam,loss= 'binary_crossentropy', metrics=['accuracy','Recall'])"
   ]
  },
  {
   "cell_type": "code",
   "execution_count": 30,
   "metadata": {
    "id": "Z-8fNmhdztAj"
   },
   "outputs": [],
   "source": [
    "mp= tf.keras.callbacks.ModelCheckpoint(filepath='mymodel.hdf5',\n",
    "                               verbose=1, save_best_only=True)\n",
    "es= tf.keras.callbacks.EarlyStopping(monitor='val_loss', min_delta=0.05, patience=3)\n",
    "callback=[es,mp]"
   ]
  },
  {
   "cell_type": "code",
   "execution_count": 31,
   "metadata": {
    "id": "QjMNGv909ktL"
   },
   "outputs": [],
   "source": [
    "##### validation data\n",
    "import random\n",
    "random.seed(0)\n",
    "x_train, x_validation, y_train, y_validation = train_test_split(new_xtrain, new_ytrain, test_size=0.3,shuffle  = True,random_state=0)"
   ]
  },
  {
   "cell_type": "code",
   "execution_count": 32,
   "metadata": {
    "colab": {
     "base_uri": "https://localhost:8080/"
    },
    "id": "D_zo_cwg_SuI",
    "outputId": "0d0f2b6a-7713-41ca-c8ea-c5b45ae2b0a6"
   },
   "outputs": [
    {
     "data": {
      "text/plain": [
       "(1474, 224, 224, 3)"
      ]
     },
     "execution_count": 32,
     "metadata": {},
     "output_type": "execute_result"
    }
   ],
   "source": [
    "x_train.shape"
   ]
  },
  {
   "cell_type": "code",
   "execution_count": 33,
   "metadata": {
    "colab": {
     "base_uri": "https://localhost:8080/"
    },
    "id": "lXM_3QMz0Mvl",
    "outputId": "314f35e3-4505-4ed4-96b7-660764b54a5a"
   },
   "outputs": [
    {
     "name": "stdout",
     "output_type": "stream",
     "text": [
      "Epoch 1/15\n",
      "33/33 [==============================] - ETA: 0s - loss: 0.6277 - accuracy: 0.6857 - recall: 0.6557\n",
      "Epoch 1: val_loss improved from inf to 0.53041, saving model to mymodel.hdf5\n",
      "33/33 [==============================] - 19s 510ms/step - loss: 0.6277 - accuracy: 0.6857 - recall: 0.6557 - val_loss: 0.5304 - val_accuracy: 0.7753 - val_recall: 0.6108\n",
      "Epoch 2/15\n",
      "33/33 [==============================] - ETA: 0s - loss: 0.4152 - accuracy: 0.8276 - recall: 0.8248\n",
      "Epoch 2: val_loss improved from 0.53041 to 0.47085, saving model to mymodel.hdf5\n",
      "33/33 [==============================] - 18s 561ms/step - loss: 0.4152 - accuracy: 0.8276 - recall: 0.8248 - val_loss: 0.4708 - val_accuracy: 0.7041 - val_recall: 0.7025\n",
      "Epoch 3/15\n",
      "33/33 [==============================] - ETA: 0s - loss: 0.3337 - accuracy: 0.8775 - recall: 0.8732\n",
      "Epoch 3: val_loss improved from 0.47085 to 0.43391, saving model to mymodel.hdf5\n",
      "33/33 [==============================] - 15s 456ms/step - loss: 0.3337 - accuracy: 0.8775 - recall: 0.8732 - val_loss: 0.4339 - val_accuracy: 0.7278 - val_recall: 0.8149\n",
      "Epoch 4/15\n",
      "33/33 [==============================] - ETA: 0s - loss: 0.2868 - accuracy: 0.8941 - recall: 0.8941\n",
      "Epoch 4: val_loss improved from 0.43391 to 0.37802, saving model to mymodel.hdf5\n",
      "33/33 [==============================] - 15s 452ms/step - loss: 0.2868 - accuracy: 0.8941 - recall: 0.8941 - val_loss: 0.3780 - val_accuracy: 0.7959 - val_recall: 0.8196\n",
      "Epoch 5/15\n",
      "33/33 [==============================] - ETA: 0s - loss: 0.2554 - accuracy: 0.9031 - recall: 0.9017\n",
      "Epoch 5: val_loss improved from 0.37802 to 0.35695, saving model to mymodel.hdf5\n",
      "33/33 [==============================] - 17s 531ms/step - loss: 0.2554 - accuracy: 0.9031 - recall: 0.9017 - val_loss: 0.3569 - val_accuracy: 0.8085 - val_recall: 0.8196\n",
      "Epoch 6/15\n",
      "33/33 [==============================] - ETA: 0s - loss: 0.2372 - accuracy: 0.9188 - recall: 0.9122\n",
      "Epoch 6: val_loss improved from 0.35695 to 0.32172, saving model to mymodel.hdf5\n",
      "33/33 [==============================] - 18s 540ms/step - loss: 0.2372 - accuracy: 0.9188 - recall: 0.9122 - val_loss: 0.3217 - val_accuracy: 0.8544 - val_recall: 0.8687\n",
      "Epoch 7/15\n",
      "33/33 [==============================] - ETA: 0s - loss: 0.2141 - accuracy: 0.9207 - recall: 0.9198\n",
      "Epoch 7: val_loss improved from 0.32172 to 0.23346, saving model to mymodel.hdf5\n",
      "33/33 [==============================] - 18s 539ms/step - loss: 0.2141 - accuracy: 0.9207 - recall: 0.9198 - val_loss: 0.2335 - val_accuracy: 0.9415 - val_recall: 0.9430\n",
      "Epoch 8/15\n",
      "33/33 [==============================] - ETA: 0s - loss: 0.1933 - accuracy: 0.9264 - recall: 0.9236\n",
      "Epoch 8: val_loss improved from 0.23346 to 0.21712, saving model to mymodel.hdf5\n",
      "33/33 [==============================] - 15s 461ms/step - loss: 0.1933 - accuracy: 0.9264 - recall: 0.9236 - val_loss: 0.2171 - val_accuracy: 0.9241 - val_recall: 0.9209\n",
      "Epoch 9/15\n",
      "33/33 [==============================] - ETA: 0s - loss: 0.1937 - accuracy: 0.9278 - recall: 0.9278\n",
      "Epoch 9: val_loss improved from 0.21712 to 0.17078, saving model to mymodel.hdf5\n",
      "33/33 [==============================] - 17s 531ms/step - loss: 0.1937 - accuracy: 0.9278 - recall: 0.9278 - val_loss: 0.1708 - val_accuracy: 0.9541 - val_recall: 0.9589\n",
      "Epoch 10/15\n",
      "33/33 [==============================] - ETA: 0s - loss: 0.1709 - accuracy: 0.9411 - recall: 0.9406\n",
      "Epoch 10: val_loss improved from 0.17078 to 0.14127, saving model to mymodel.hdf5\n",
      "33/33 [==============================] - 17s 526ms/step - loss: 0.1709 - accuracy: 0.9411 - recall: 0.9406 - val_loss: 0.1413 - val_accuracy: 0.9573 - val_recall: 0.9589\n",
      "Epoch 11/15\n",
      "33/33 [==============================] - ETA: 0s - loss: 0.1660 - accuracy: 0.9406 - recall: 0.9378\n",
      "Epoch 11: val_loss did not improve from 0.14127\n",
      "33/33 [==============================] - 16s 499ms/step - loss: 0.1660 - accuracy: 0.9406 - recall: 0.9378 - val_loss: 0.2002 - val_accuracy: 0.9098 - val_recall: 0.9193\n",
      "Epoch 12/15\n",
      "33/33 [==============================] - ETA: 0s - loss: 0.1773 - accuracy: 0.9373 - recall: 0.9345\n",
      "Epoch 12: val_loss improved from 0.14127 to 0.13768, saving model to mymodel.hdf5\n",
      "33/33 [==============================] - 18s 539ms/step - loss: 0.1773 - accuracy: 0.9373 - recall: 0.9345 - val_loss: 0.1377 - val_accuracy: 0.9541 - val_recall: 0.9509\n"
     ]
    }
   ],
   "source": [
    "history = model.fit(\n",
    "    new_xtrain,\n",
    "    new_ytrain,\n",
    "    batch_size=64, #steps_per_epoch= training_images/batch_size= 4946/8<=618\n",
    "    epochs = 15, #own choice\n",
    "    validation_data = (x_validation,y_validation),\n",
    "    callbacks=callback\n",
    ")"
   ]
  },
  {
   "cell_type": "code",
   "execution_count": 34,
   "metadata": {
    "colab": {
     "base_uri": "https://localhost:8080/"
    },
    "id": "UPQFga4Z0xpH",
    "outputId": "21e63006-93fb-4490-a144-8a4e617a5278"
   },
   "outputs": [
    {
     "name": "stdout",
     "output_type": "stream",
     "text": [
      "dict_keys(['loss', 'accuracy', 'recall', 'val_loss', 'val_accuracy', 'val_recall'])\n"
     ]
    }
   ],
   "source": [
    "print(history.history.keys())\n",
    "import matplotlib.pyplot as plt\n",
    "acc=(history.history['accuracy'])\n",
    "loss=(history.history['loss'])\n",
    "rec=(history.history['recall'])\n",
    "val_acc=(history.history['val_accuracy'])\n",
    "val_loss=(history.history['val_loss'])\n",
    "val_rec=(history.history['val_recall'])"
   ]
  },
  {
   "cell_type": "code",
   "execution_count": 35,
   "metadata": {
    "colab": {
     "base_uri": "https://localhost:8080/",
     "height": 489
    },
    "id": "wuKEv4Nv5CiI",
    "outputId": "0d2f6f86-010a-4bfd-ad2a-b5b6a0918d5f"
   },
   "outputs": [
    {
     "data": {
      "text/plain": [
       "<matplotlib.legend.Legend at 0x7bde4c2c7a30>"
      ]
     },
     "execution_count": 35,
     "metadata": {},
     "output_type": "execute_result"
    },
    {
     "data": {
      "image/png": "[encoded data removed]",
      "text/plain": [
       "<Figure size 640x480 with 1 Axes>"
      ]
     },
     "metadata": {},
     "output_type": "display_data"
    }
   ],
   "source": [
    "plt.plot(acc)\n",
    "plt.plot(val_acc)\n",
    "plt.title('ACCURACY COMPARISON')\n",
    "plt.xlabel('epoch')\n",
    "plt.ylabel('accuracies')\n",
    "plt.title('ACCURACY COMPARISON')\n",
    "plt.legend(['train','validation'])"
   ]
  },
  {
   "cell_type": "code",
   "execution_count": 36,
   "metadata": {
    "colab": {
     "base_uri": "https://localhost:8080/",
     "height": 489
    },
    "id": "bvuA7Rt-5Gzr",
    "outputId": "1a2f181e-9fd3-40ad-a897-204f98e2f648"
   },
   "outputs": [
    {
     "data": {
      "text/plain": [
       "<matplotlib.legend.Legend at 0x7bde4c18af50>"
      ]
     },
     "execution_count": 36,
     "metadata": {},
     "output_type": "execute_result"
    },
    {
     "data": {
      "image/png": "[encoded data removed]",
      "text/plain": [
       "<Figure size 640x480 with 1 Axes>"
      ]
     },
     "metadata": {},
     "output_type": "display_data"
    }
   ],
   "source": [
    "plt.plot(loss)\n",
    "plt.plot(val_loss)\n",
    "plt.title('LOSS COMPARISON')\n",
    "plt.xlabel('epoch')\n",
    "plt.ylabel('LOSSES')\n",
    "plt.title('LOSS COMPARISON')\n",
    "plt.legend(['train','validation'])"
   ]
  },
  {
   "cell_type": "code",
   "execution_count": 55,
   "metadata": {
    "id": "bN5r0rZJ5PuN"
   },
   "outputs": [],
   "source": [
    "#######################################################################################\n",
    "#######################################################################################\n",
    "#######################################################################################\n",
    "#######################################################################################"
   ]
  }
 ],
 "metadata": {
  "accelerator": "GPU",
  "colab": {
   "gpuType": "T4",
   "provenance": []
  },
  "kernelspec": {
   "display_name": "Python 3 (ipykernel)",
   "language": "python",
   "name": "python3"
  },
  "language_info": {
   "codemirror_mode": {
    "name": "ipython",
    "version": 3
   },
   "file_extension": ".py",
   "mimetype": "text/x-python",
   "name": "python",
   "nbconvert_exporter": "python",
   "pygments_lexer": "ipython3",
   "version": "3.11.6"
  }
 },
 "nbformat": 4,
 "nbformat_minor": 4
}
